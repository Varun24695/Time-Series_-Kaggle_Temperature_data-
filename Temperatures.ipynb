{
  "nbformat": 4,
  "nbformat_minor": 0,
  "metadata": {
    "kernelspec": {
      "display_name": "Python 3",
      "language": "python",
      "name": "python3"
    },
    "language_info": {
      "codemirror_mode": {
        "name": "ipython",
        "version": 3
      },
      "file_extension": ".py",
      "mimetype": "text/x-python",
      "name": "python",
      "nbconvert_exporter": "python",
      "pygments_lexer": "ipython3",
      "version": "3.8.3"
    },
    "colab": {
      "name": "End to End Time Series Analysis.ipynb",
      "provenance": []
    }
  },
  "cells": [
    {
      "cell_type": "code",
      "metadata": {
        "id": "X-cCxJYZecMZ"
      },
      "source": [
        "import warnings\n",
        "warnings.filterwarnings('ignore')"
      ],
      "execution_count": 1,
      "outputs": []
    },
    {
      "cell_type": "code",
      "metadata": {
        "id": "eu3D60PzecMl",
        "outputId": "86fb0356-08b7-4736-b3e2-ced3f18166e2"
      },
      "source": [
        "# Data and package Import\n",
        "#Data Source - Kaggle - https://www.kaggle.com/berkeleyearth/climate-change-earth-surface-temperature-data\n",
        "import pandas as pd\n",
        "import matplotlib.pyplot as plt\n",
        "from statsmodels.tsa.arima_model import ARMA\n",
        "TempData = pd.read_csv('GlobalLandTemperaturesByCity.csv')\n",
        "TempData.head(30)"
      ],
      "execution_count": null,
      "outputs": [
        {
          "output_type": "execute_result",
          "data": {
            "text/html": [
              "<div>\n",
              "<style scoped>\n",
              "    .dataframe tbody tr th:only-of-type {\n",
              "        vertical-align: middle;\n",
              "    }\n",
              "\n",
              "    .dataframe tbody tr th {\n",
              "        vertical-align: top;\n",
              "    }\n",
              "\n",
              "    .dataframe thead th {\n",
              "        text-align: right;\n",
              "    }\n",
              "</style>\n",
              "<table border=\"1\" class=\"dataframe\">\n",
              "  <thead>\n",
              "    <tr style=\"text-align: right;\">\n",
              "      <th></th>\n",
              "      <th>dt</th>\n",
              "      <th>AverageTemperature</th>\n",
              "      <th>AverageTemperatureUncertainty</th>\n",
              "      <th>City</th>\n",
              "      <th>Country</th>\n",
              "      <th>Latitude</th>\n",
              "      <th>Longitude</th>\n",
              "    </tr>\n",
              "  </thead>\n",
              "  <tbody>\n",
              "    <tr>\n",
              "      <th>0</th>\n",
              "      <td>1743-11-01</td>\n",
              "      <td>6.068</td>\n",
              "      <td>1.737</td>\n",
              "      <td>Århus</td>\n",
              "      <td>Denmark</td>\n",
              "      <td>57.05N</td>\n",
              "      <td>10.33E</td>\n",
              "    </tr>\n",
              "    <tr>\n",
              "      <th>1</th>\n",
              "      <td>1743-12-01</td>\n",
              "      <td>NaN</td>\n",
              "      <td>NaN</td>\n",
              "      <td>Århus</td>\n",
              "      <td>Denmark</td>\n",
              "      <td>57.05N</td>\n",
              "      <td>10.33E</td>\n",
              "    </tr>\n",
              "    <tr>\n",
              "      <th>2</th>\n",
              "      <td>1744-01-01</td>\n",
              "      <td>NaN</td>\n",
              "      <td>NaN</td>\n",
              "      <td>Århus</td>\n",
              "      <td>Denmark</td>\n",
              "      <td>57.05N</td>\n",
              "      <td>10.33E</td>\n",
              "    </tr>\n",
              "    <tr>\n",
              "      <th>3</th>\n",
              "      <td>1744-02-01</td>\n",
              "      <td>NaN</td>\n",
              "      <td>NaN</td>\n",
              "      <td>Århus</td>\n",
              "      <td>Denmark</td>\n",
              "      <td>57.05N</td>\n",
              "      <td>10.33E</td>\n",
              "    </tr>\n",
              "    <tr>\n",
              "      <th>4</th>\n",
              "      <td>1744-03-01</td>\n",
              "      <td>NaN</td>\n",
              "      <td>NaN</td>\n",
              "      <td>Århus</td>\n",
              "      <td>Denmark</td>\n",
              "      <td>57.05N</td>\n",
              "      <td>10.33E</td>\n",
              "    </tr>\n",
              "    <tr>\n",
              "      <th>5</th>\n",
              "      <td>1744-04-01</td>\n",
              "      <td>5.788</td>\n",
              "      <td>3.624</td>\n",
              "      <td>Århus</td>\n",
              "      <td>Denmark</td>\n",
              "      <td>57.05N</td>\n",
              "      <td>10.33E</td>\n",
              "    </tr>\n",
              "    <tr>\n",
              "      <th>6</th>\n",
              "      <td>1744-05-01</td>\n",
              "      <td>10.644</td>\n",
              "      <td>1.283</td>\n",
              "      <td>Århus</td>\n",
              "      <td>Denmark</td>\n",
              "      <td>57.05N</td>\n",
              "      <td>10.33E</td>\n",
              "    </tr>\n",
              "    <tr>\n",
              "      <th>7</th>\n",
              "      <td>1744-06-01</td>\n",
              "      <td>14.051</td>\n",
              "      <td>1.347</td>\n",
              "      <td>Århus</td>\n",
              "      <td>Denmark</td>\n",
              "      <td>57.05N</td>\n",
              "      <td>10.33E</td>\n",
              "    </tr>\n",
              "    <tr>\n",
              "      <th>8</th>\n",
              "      <td>1744-07-01</td>\n",
              "      <td>16.082</td>\n",
              "      <td>1.396</td>\n",
              "      <td>Århus</td>\n",
              "      <td>Denmark</td>\n",
              "      <td>57.05N</td>\n",
              "      <td>10.33E</td>\n",
              "    </tr>\n",
              "    <tr>\n",
              "      <th>9</th>\n",
              "      <td>1744-08-01</td>\n",
              "      <td>NaN</td>\n",
              "      <td>NaN</td>\n",
              "      <td>Århus</td>\n",
              "      <td>Denmark</td>\n",
              "      <td>57.05N</td>\n",
              "      <td>10.33E</td>\n",
              "    </tr>\n",
              "    <tr>\n",
              "      <th>10</th>\n",
              "      <td>1744-09-01</td>\n",
              "      <td>12.781</td>\n",
              "      <td>1.454</td>\n",
              "      <td>Århus</td>\n",
              "      <td>Denmark</td>\n",
              "      <td>57.05N</td>\n",
              "      <td>10.33E</td>\n",
              "    </tr>\n",
              "    <tr>\n",
              "      <th>11</th>\n",
              "      <td>1744-10-01</td>\n",
              "      <td>7.950</td>\n",
              "      <td>1.630</td>\n",
              "      <td>Århus</td>\n",
              "      <td>Denmark</td>\n",
              "      <td>57.05N</td>\n",
              "      <td>10.33E</td>\n",
              "    </tr>\n",
              "    <tr>\n",
              "      <th>12</th>\n",
              "      <td>1744-11-01</td>\n",
              "      <td>4.639</td>\n",
              "      <td>1.302</td>\n",
              "      <td>Århus</td>\n",
              "      <td>Denmark</td>\n",
              "      <td>57.05N</td>\n",
              "      <td>10.33E</td>\n",
              "    </tr>\n",
              "    <tr>\n",
              "      <th>13</th>\n",
              "      <td>1744-12-01</td>\n",
              "      <td>0.122</td>\n",
              "      <td>1.756</td>\n",
              "      <td>Århus</td>\n",
              "      <td>Denmark</td>\n",
              "      <td>57.05N</td>\n",
              "      <td>10.33E</td>\n",
              "    </tr>\n",
              "    <tr>\n",
              "      <th>14</th>\n",
              "      <td>1745-01-01</td>\n",
              "      <td>-1.333</td>\n",
              "      <td>1.642</td>\n",
              "      <td>Århus</td>\n",
              "      <td>Denmark</td>\n",
              "      <td>57.05N</td>\n",
              "      <td>10.33E</td>\n",
              "    </tr>\n",
              "    <tr>\n",
              "      <th>15</th>\n",
              "      <td>1745-02-01</td>\n",
              "      <td>-2.732</td>\n",
              "      <td>1.358</td>\n",
              "      <td>Århus</td>\n",
              "      <td>Denmark</td>\n",
              "      <td>57.05N</td>\n",
              "      <td>10.33E</td>\n",
              "    </tr>\n",
              "    <tr>\n",
              "      <th>16</th>\n",
              "      <td>1745-03-01</td>\n",
              "      <td>0.129</td>\n",
              "      <td>1.088</td>\n",
              "      <td>Århus</td>\n",
              "      <td>Denmark</td>\n",
              "      <td>57.05N</td>\n",
              "      <td>10.33E</td>\n",
              "    </tr>\n",
              "    <tr>\n",
              "      <th>17</th>\n",
              "      <td>1745-04-01</td>\n",
              "      <td>4.042</td>\n",
              "      <td>1.138</td>\n",
              "      <td>Århus</td>\n",
              "      <td>Denmark</td>\n",
              "      <td>57.05N</td>\n",
              "      <td>10.33E</td>\n",
              "    </tr>\n",
              "    <tr>\n",
              "      <th>18</th>\n",
              "      <td>1745-05-01</td>\n",
              "      <td>NaN</td>\n",
              "      <td>NaN</td>\n",
              "      <td>Århus</td>\n",
              "      <td>Denmark</td>\n",
              "      <td>57.05N</td>\n",
              "      <td>10.33E</td>\n",
              "    </tr>\n",
              "    <tr>\n",
              "      <th>19</th>\n",
              "      <td>1745-06-01</td>\n",
              "      <td>NaN</td>\n",
              "      <td>NaN</td>\n",
              "      <td>Århus</td>\n",
              "      <td>Denmark</td>\n",
              "      <td>57.05N</td>\n",
              "      <td>10.33E</td>\n",
              "    </tr>\n",
              "    <tr>\n",
              "      <th>20</th>\n",
              "      <td>1745-07-01</td>\n",
              "      <td>NaN</td>\n",
              "      <td>NaN</td>\n",
              "      <td>Århus</td>\n",
              "      <td>Denmark</td>\n",
              "      <td>57.05N</td>\n",
              "      <td>10.33E</td>\n",
              "    </tr>\n",
              "    <tr>\n",
              "      <th>21</th>\n",
              "      <td>1745-08-01</td>\n",
              "      <td>NaN</td>\n",
              "      <td>NaN</td>\n",
              "      <td>Århus</td>\n",
              "      <td>Denmark</td>\n",
              "      <td>57.05N</td>\n",
              "      <td>10.33E</td>\n",
              "    </tr>\n",
              "    <tr>\n",
              "      <th>22</th>\n",
              "      <td>1745-09-01</td>\n",
              "      <td>NaN</td>\n",
              "      <td>NaN</td>\n",
              "      <td>Århus</td>\n",
              "      <td>Denmark</td>\n",
              "      <td>57.05N</td>\n",
              "      <td>10.33E</td>\n",
              "    </tr>\n",
              "    <tr>\n",
              "      <th>23</th>\n",
              "      <td>1745-10-01</td>\n",
              "      <td>NaN</td>\n",
              "      <td>NaN</td>\n",
              "      <td>Århus</td>\n",
              "      <td>Denmark</td>\n",
              "      <td>57.05N</td>\n",
              "      <td>10.33E</td>\n",
              "    </tr>\n",
              "    <tr>\n",
              "      <th>24</th>\n",
              "      <td>1745-11-01</td>\n",
              "      <td>NaN</td>\n",
              "      <td>NaN</td>\n",
              "      <td>Århus</td>\n",
              "      <td>Denmark</td>\n",
              "      <td>57.05N</td>\n",
              "      <td>10.33E</td>\n",
              "    </tr>\n",
              "    <tr>\n",
              "      <th>25</th>\n",
              "      <td>1745-12-01</td>\n",
              "      <td>NaN</td>\n",
              "      <td>NaN</td>\n",
              "      <td>Århus</td>\n",
              "      <td>Denmark</td>\n",
              "      <td>57.05N</td>\n",
              "      <td>10.33E</td>\n",
              "    </tr>\n",
              "    <tr>\n",
              "      <th>26</th>\n",
              "      <td>1746-01-01</td>\n",
              "      <td>NaN</td>\n",
              "      <td>NaN</td>\n",
              "      <td>Århus</td>\n",
              "      <td>Denmark</td>\n",
              "      <td>57.05N</td>\n",
              "      <td>10.33E</td>\n",
              "    </tr>\n",
              "    <tr>\n",
              "      <th>27</th>\n",
              "      <td>1746-02-01</td>\n",
              "      <td>NaN</td>\n",
              "      <td>NaN</td>\n",
              "      <td>Århus</td>\n",
              "      <td>Denmark</td>\n",
              "      <td>57.05N</td>\n",
              "      <td>10.33E</td>\n",
              "    </tr>\n",
              "    <tr>\n",
              "      <th>28</th>\n",
              "      <td>1746-03-01</td>\n",
              "      <td>NaN</td>\n",
              "      <td>NaN</td>\n",
              "      <td>Århus</td>\n",
              "      <td>Denmark</td>\n",
              "      <td>57.05N</td>\n",
              "      <td>10.33E</td>\n",
              "    </tr>\n",
              "    <tr>\n",
              "      <th>29</th>\n",
              "      <td>1746-04-01</td>\n",
              "      <td>NaN</td>\n",
              "      <td>NaN</td>\n",
              "      <td>Århus</td>\n",
              "      <td>Denmark</td>\n",
              "      <td>57.05N</td>\n",
              "      <td>10.33E</td>\n",
              "    </tr>\n",
              "  </tbody>\n",
              "</table>\n",
              "</div>"
            ],
            "text/plain": [
              "            dt  AverageTemperature  AverageTemperatureUncertainty   City  \\\n",
              "0   1743-11-01               6.068                          1.737  Århus   \n",
              "1   1743-12-01                 NaN                            NaN  Århus   \n",
              "2   1744-01-01                 NaN                            NaN  Århus   \n",
              "3   1744-02-01                 NaN                            NaN  Århus   \n",
              "4   1744-03-01                 NaN                            NaN  Århus   \n",
              "5   1744-04-01               5.788                          3.624  Århus   \n",
              "6   1744-05-01              10.644                          1.283  Århus   \n",
              "7   1744-06-01              14.051                          1.347  Århus   \n",
              "8   1744-07-01              16.082                          1.396  Århus   \n",
              "9   1744-08-01                 NaN                            NaN  Århus   \n",
              "10  1744-09-01              12.781                          1.454  Århus   \n",
              "11  1744-10-01               7.950                          1.630  Århus   \n",
              "12  1744-11-01               4.639                          1.302  Århus   \n",
              "13  1744-12-01               0.122                          1.756  Århus   \n",
              "14  1745-01-01              -1.333                          1.642  Århus   \n",
              "15  1745-02-01              -2.732                          1.358  Århus   \n",
              "16  1745-03-01               0.129                          1.088  Århus   \n",
              "17  1745-04-01               4.042                          1.138  Århus   \n",
              "18  1745-05-01                 NaN                            NaN  Århus   \n",
              "19  1745-06-01                 NaN                            NaN  Århus   \n",
              "20  1745-07-01                 NaN                            NaN  Århus   \n",
              "21  1745-08-01                 NaN                            NaN  Århus   \n",
              "22  1745-09-01                 NaN                            NaN  Århus   \n",
              "23  1745-10-01                 NaN                            NaN  Århus   \n",
              "24  1745-11-01                 NaN                            NaN  Århus   \n",
              "25  1745-12-01                 NaN                            NaN  Århus   \n",
              "26  1746-01-01                 NaN                            NaN  Århus   \n",
              "27  1746-02-01                 NaN                            NaN  Århus   \n",
              "28  1746-03-01                 NaN                            NaN  Århus   \n",
              "29  1746-04-01                 NaN                            NaN  Århus   \n",
              "\n",
              "    Country Latitude Longitude  \n",
              "0   Denmark   57.05N    10.33E  \n",
              "1   Denmark   57.05N    10.33E  \n",
              "2   Denmark   57.05N    10.33E  \n",
              "3   Denmark   57.05N    10.33E  \n",
              "4   Denmark   57.05N    10.33E  \n",
              "5   Denmark   57.05N    10.33E  \n",
              "6   Denmark   57.05N    10.33E  \n",
              "7   Denmark   57.05N    10.33E  \n",
              "8   Denmark   57.05N    10.33E  \n",
              "9   Denmark   57.05N    10.33E  \n",
              "10  Denmark   57.05N    10.33E  \n",
              "11  Denmark   57.05N    10.33E  \n",
              "12  Denmark   57.05N    10.33E  \n",
              "13  Denmark   57.05N    10.33E  \n",
              "14  Denmark   57.05N    10.33E  \n",
              "15  Denmark   57.05N    10.33E  \n",
              "16  Denmark   57.05N    10.33E  \n",
              "17  Denmark   57.05N    10.33E  \n",
              "18  Denmark   57.05N    10.33E  \n",
              "19  Denmark   57.05N    10.33E  \n",
              "20  Denmark   57.05N    10.33E  \n",
              "21  Denmark   57.05N    10.33E  \n",
              "22  Denmark   57.05N    10.33E  \n",
              "23  Denmark   57.05N    10.33E  \n",
              "24  Denmark   57.05N    10.33E  \n",
              "25  Denmark   57.05N    10.33E  \n",
              "26  Denmark   57.05N    10.33E  \n",
              "27  Denmark   57.05N    10.33E  \n",
              "28  Denmark   57.05N    10.33E  \n",
              "29  Denmark   57.05N    10.33E  "
            ]
          },
          "metadata": {
            "tags": []
          },
          "execution_count": 163
        }
      ]
    },
    {
      "cell_type": "code",
      "metadata": {
        "id": "cQy5W8ApecMo",
        "outputId": "3bd608ab-917b-40c1-f10a-a5a754eee439"
      },
      "source": [
        "#Data Cleaning\n",
        "TempData = TempData.dropna()\n",
        "df_Denamrk = TempData[TempData.Country == \"Denmark\"]\n",
        "\n",
        "df_Denamrk.index = pd.to_datetime(df_Denamrk.dt)\n",
        "  \n",
        "df_Denamrk = df_Denamrk.drop(['dt','AverageTemperatureUncertainty'], axis=1)\n",
        "df_Denamrk.describe()\n"
      ],
      "execution_count": null,
      "outputs": [
        {
          "output_type": "execute_result",
          "data": {
            "text/html": [
              "<div>\n",
              "<style scoped>\n",
              "    .dataframe tbody tr th:only-of-type {\n",
              "        vertical-align: middle;\n",
              "    }\n",
              "\n",
              "    .dataframe tbody tr th {\n",
              "        vertical-align: top;\n",
              "    }\n",
              "\n",
              "    .dataframe thead th {\n",
              "        text-align: right;\n",
              "    }\n",
              "</style>\n",
              "<table border=\"1\" class=\"dataframe\">\n",
              "  <thead>\n",
              "    <tr style=\"text-align: right;\">\n",
              "      <th></th>\n",
              "      <th>AverageTemperature</th>\n",
              "    </tr>\n",
              "  </thead>\n",
              "  <tbody>\n",
              "    <tr>\n",
              "      <th>count</th>\n",
              "      <td>12664.000000</td>\n",
              "    </tr>\n",
              "    <tr>\n",
              "      <th>mean</th>\n",
              "      <td>7.802640</td>\n",
              "    </tr>\n",
              "    <tr>\n",
              "      <th>std</th>\n",
              "      <td>6.648288</td>\n",
              "    </tr>\n",
              "    <tr>\n",
              "      <th>min</th>\n",
              "      <td>-7.816000</td>\n",
              "    </tr>\n",
              "    <tr>\n",
              "      <th>25%</th>\n",
              "      <td>2.084000</td>\n",
              "    </tr>\n",
              "    <tr>\n",
              "      <th>50%</th>\n",
              "      <td>7.200000</td>\n",
              "    </tr>\n",
              "    <tr>\n",
              "      <th>75%</th>\n",
              "      <td>14.190500</td>\n",
              "    </tr>\n",
              "    <tr>\n",
              "      <th>max</th>\n",
              "      <td>21.437000</td>\n",
              "    </tr>\n",
              "  </tbody>\n",
              "</table>\n",
              "</div>"
            ],
            "text/plain": [
              "       AverageTemperature\n",
              "count        12664.000000\n",
              "mean             7.802640\n",
              "std              6.648288\n",
              "min             -7.816000\n",
              "25%              2.084000\n",
              "50%              7.200000\n",
              "75%             14.190500\n",
              "max             21.437000"
            ]
          },
          "metadata": {
            "tags": []
          },
          "execution_count": 164
        }
      ]
    },
    {
      "cell_type": "code",
      "metadata": {
        "id": "r7W3oU3KecM6",
        "outputId": "0794ab49-0207-4b27-fb27-d0ff7ece62af"
      },
      "source": [
        "ts = df_Denamrk['AverageTemperature']\n",
        "ts"
      ],
      "execution_count": null,
      "outputs": [
        {
          "output_type": "execute_result",
          "data": {
            "text/plain": [
              "dt\n",
              "1743-11-01     6.068\n",
              "1744-04-01     5.788\n",
              "1744-05-01    10.644\n",
              "1744-06-01    14.051\n",
              "1744-07-01    16.082\n",
              "               ...  \n",
              "2013-04-01     6.026\n",
              "2013-05-01    12.774\n",
              "2013-06-01    15.685\n",
              "2013-07-01    18.735\n",
              "2013-08-01    18.067\n",
              "Name: AverageTemperature, Length: 12664, dtype: float64"
            ]
          },
          "metadata": {
            "tags": []
          },
          "execution_count": 165
        }
      ]
    },
    {
      "cell_type": "code",
      "metadata": {
        "id": "CtSp5S0qecM_",
        "outputId": "5b619257-4ce4-4e36-db61-a7db7c560d29"
      },
      "source": [
        "#Data Exploration\n",
        "plt.figure(figsize=(16,7))\n",
        "fig = plt.figure(1)\n",
        "ax1 = fig.add_subplot(111)\n",
        "ax1.set_xlabel('Time Frame')\n",
        "ax1.set_ylabel('Average Temp Recorded')\n",
        "ax1.plot(ts)\n"
      ],
      "execution_count": null,
      "outputs": [
        {
          "output_type": "execute_result",
          "data": {
            "text/plain": [
              "[<matplotlib.lines.Line2D at 0x130443e89a0>]"
            ]
          },
          "metadata": {
            "tags": []
          },
          "execution_count": 166
        },
        {
          "output_type": "display_data",
          "data": {
            "image/png": "[encoded data removed]",
            "text/plain": [
              "<Figure size 1152x504 with 1 Axes>"
            ]
          },
          "metadata": {
            "tags": [],
            "needs_background": "light"
          }
        }
      ]
    },
    {
      "cell_type": "code",
      "metadata": {
        "id": "KAmBvR-recNE",
        "outputId": "3faf1955-6fbf-465b-d8d9-85b413ffc0a6"
      },
      "source": [
        "# Perform Augmented Dickey-Fuller test:\n",
        "# ADF Test - nul hypothesis - non-stationary - if p-value < 5% reject null hypothesis\n",
        "adfuller_result = adfuller(ts, autolag='AIC')\n",
        "\n",
        "print(f'ADF Statistic: {adfuller_result[0]}')\n",
        "\n",
        "print(f'p-value: {adfuller_result[1]}')\n",
        "\n",
        "for key, value in adfuller_result[4].items():\n",
        "    print('Critial Values:')\n",
        "    print(f'   {key}, {value}')"
      ],
      "execution_count": null,
      "outputs": [
        {
          "output_type": "stream",
          "text": [
            "ADF Statistic: -14.764430391800598\n",
            "p-value: 2.3746970456360347e-27\n",
            "Critial Values:\n",
            "   1%, -3.430868192869495\n",
            "Critial Values:\n",
            "   5%, -2.86176901566292\n",
            "Critial Values:\n",
            "   10%, -2.566891900059256\n"
          ],
          "name": "stdout"
        }
      ]
    },
    {
      "cell_type": "code",
      "metadata": {
        "id": "78_IoqTSecNM"
      },
      "source": [
        "#First model\n",
        "newmodel = ARMA(ts,order=(1,1))\n",
        "results = newmodel.fit()\n",
        "\n",
        "predictions = results.predict('01/01/1990', '01/01/1991')"
      ],
      "execution_count": null,
      "outputs": []
    },
    {
      "cell_type": "code",
      "metadata": {
        "id": "_eoCv3AUecNc"
      },
      "source": [
        "actuals = df_Denamrk['01/01/1990': '01/01/1991']['AverageTemperature'][0:13]"
      ],
      "execution_count": null,
      "outputs": []
    },
    {
      "cell_type": "code",
      "metadata": {
        "id": "DJT3UBsaecNk",
        "outputId": "5bbabf81-6598-4890-a2ac-ddfcc19d54b1"
      },
      "source": [
        "from sklearn.metrics import mean_absolute_error\n",
        "mae = mean_absolute_error(actuals[0:13], predictions)\n",
        "print('MAE: %f' % mae)"
      ],
      "execution_count": null,
      "outputs": [
        {
          "output_type": "stream",
          "text": [
            "MAE: 1.812791\n"
          ],
          "name": "stdout"
        }
      ]
    },
    {
      "cell_type": "code",
      "metadata": {
        "id": "BS5A6TjLecNx",
        "outputId": "f774e23b-9925-43fd-fef2-678a511941bd"
      },
      "source": [
        "import itertools\n",
        "i = j = range(0, 4)\n",
        "ij = itertools.product(i,j)\n",
        "for parameters in ij:\n",
        "    try:\n",
        "        mod = ARMA(ts,order=parameters)\n",
        "        results = mod.fit()\n",
        "        print('ARMA{} - AIC:{}'.format(parameters, results.aic))\n",
        "    except:\n",
        "        continue"
      ],
      "execution_count": null,
      "outputs": [
        {
          "output_type": "stream",
          "text": [
            "ARMA(0, 0) - AIC:83922.21129983963\n",
            "ARMA(0, 1) - AIC:72682.7946395372\n",
            "ARMA(0, 3) - AIC:63785.44572705227\n",
            "ARMA(1, 0) - AIC:69020.3114679126\n",
            "ARMA(1, 1) - AIC:65268.10421609787\n",
            "ARMA(1, 2) - AIC:63179.848013828014\n",
            "ARMA(1, 3) - AIC:66639.6042840789\n",
            "ARMA(2, 0) - AIC:60366.30909260573\n",
            "ARMA(2, 2) - AIC:52219.29608733581\n",
            "ARMA(2, 3) - AIC:50711.74222648103\n",
            "ARMA(3, 0) - AIC:56175.94555218136\n",
            "ARMA(3, 1) - AIC:53338.63499200775\n",
            "ARMA(3, 2) - AIC:50395.097080347434\n",
            "ARMA(3, 3) - AIC:50388.974162999075\n"
          ],
          "name": "stdout"
        }
      ]
    },
    {
      "cell_type": "code",
      "metadata": {
        "id": "zXMQLIgsecOF"
      },
      "source": [
        "predictions = results.predict('01/01/1990', '01/01/1991')"
      ],
      "execution_count": null,
      "outputs": []
    },
    {
      "cell_type": "code",
      "metadata": {
        "id": "yvAYCMsuecOG",
        "outputId": "9e458e09-b9df-40bf-c674-8d8c1b83f7ef"
      },
      "source": [
        "from sklearn.metrics import mean_absolute_error\n",
        "mae = mean_absolute_error(actuals[0:13], predictions)\n",
        "print('MAE: %f' % mae)"
      ],
      "execution_count": null,
      "outputs": [
        {
          "output_type": "stream",
          "text": [
            "MAE: 1.494766\n"
          ],
          "name": "stdout"
        }
      ]
    },
    {
      "cell_type": "code",
      "metadata": {
        "id": "qfA7AdyYecOH"
      },
      "source": [
        ""
      ],
      "execution_count": null,
      "outputs": []
    },
    {
      "cell_type": "code",
      "metadata": {
        "id": "gDcYAGGjecOI"
      },
      "source": [
        ""
      ],
      "execution_count": null,
      "outputs": []
    }
  ]
}